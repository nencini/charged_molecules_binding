{
 "cells": [
  {
   "cell_type": "code",
   "execution_count": 1,
   "id": "5729666b",
   "metadata": {},
   "outputs": [],
   "source": [
    "import numpy as np\n",
    "import sys\n",
    "import gc\n",
    "gc.collect()\n",
    "import math\n",
    "import os\n",
    "import shutil\n",
    "import yaml\n",
    "\n",
    "from mpl_toolkits.mplot3d import axes3d\n",
    "import matplotlib.pyplot as plt\n",
    "import numpy as np\n",
    "%matplotlib inline\n",
    "from mpl_toolkits.mplot3d import Axes3D  # noqa: F401 unused import\n",
    "\n",
    "\n",
    "from matplotlib import cm\n",
    "from matplotlib.ticker import LinearLocator, FormatStrFormatter\n",
    "plt.rcParams[\"figure.figsize\"] = (10,10)"
   ]
  },
  {
   "cell_type": "code",
   "execution_count": 17,
   "id": "3284bf84",
   "metadata": {},
   "outputs": [],
   "source": [
    "localPath='/home/ricky/Documents/from_work/charged_molecules_binding/figure3_SI/'\n",
    "org_alp1=0.03289\n",
    "org_alp2=0.03618\n",
    "org_bet1=-0.07640\n",
    "org_bet2=-0.07626"
   ]
  },
  {
   "cell_type": "code",
   "execution_count": 4,
   "id": "b2e856d4",
   "metadata": {},
   "outputs": [
    {
     "name": "stdout",
     "output_type": "stream",
     "text": [
      "/media/ricky/One Touch/simulations\n"
     ]
    }
   ],
   "source": [
    "cd /media/ricky/One\\ Touch/simulations/"
   ]
  },
  {
   "cell_type": "code",
   "execution_count": 27,
   "id": "291b6c1f",
   "metadata": {},
   "outputs": [],
   "source": [
    "eti_140=[\"etidocaine_POPC_CHARMM_298K_Cl_countra_140mM_5200waters\",\"etidocaine_POPC_CHARMM_298K_Cl_countra_140mM_5985waters\",\"etidocaine_POPC_CHARMM_298K_Cl_countra_140mM_7581waters\",\"etidocaine_POPC_CHARMM_298K_Cl_countra_140mM_9975waters\",\"etidocaine_POPC_CHARMM_298K_Cl_countra_140mM_20000waters_2746\",\"etidocaine_POPC_CHARMM_298K_Cl_countra_140mM_177600waters_413\"]\n",
    "eti_280=[\"etidocaine_POPC_CHARMM_298K_Cl_countra_280mM_5200waters\",\"etidocaine_POPC_CHARMM_298K_Cl_countra_280mM_19900waters_2785\"]\n",
    "eti_420=[\"etidocaine_POPC_CHARMM_298K_Cl_countra_420mM_5200waters\",\"etidocaine_POPC_CHARMM_298K_Cl_countra_420mM_19900waters_1212\"]"
   ]
  },
  {
   "cell_type": "code",
   "execution_count": 34,
   "id": "1bc2d89c",
   "metadata": {},
   "outputs": [
    {
     "name": "stdout",
     "output_type": "stream",
     "text": [
      "6.153886773330658 513.0\n",
      "6.4695808487655935 723.2\n",
      "7.109496864235163 437.6\n",
      "8.166545387401612 1554.4\n",
      "12.5295002669681 2000.1\n",
      "80.9815296634213 364.0\n",
      "6.0228432722829455 1493.5\n",
      "12.347961539873124 2000.1\n",
      "5.917002087277551 484.2\n",
      "12.27722173019164 2000.1\n"
     ]
    }
   ],
   "source": [
    "with open(localPath+\"eti_140_swiss.dat\",\"w\") as f:\n",
    "    f.write(\"#Etidocaine 140mM, Swiss \\n\")\n",
    "for system in eti_140:\n",
    "    readme=system+\"/README.yaml\"\n",
    "    with open(readme) as yaml_file:\n",
    "        sim = yaml.load(yaml_file, Loader=yaml.FullLoader)\n",
    "    repeat_distance=sim['ANALYSIS']['BOX_DIMENSIONS']['REPEAT_DISTANCE']\n",
    "    with open(localPath+\"eti_140_swiss.dat\",\"a\") as f:\n",
    "        f.write(\"{} \".format(repeat_distance))\n",
    "    for key in sim['ANALYSIS']['ORDER_PARAMETER']:\n",
    "        key=sim['ANALYSIS']['ORDER_PARAMETER'][key]\n",
    "        with open(localPath+\"eti_140_swiss.dat\",\"a\") as f:\n",
    "            f.write(\"{} \".format(key))\n",
    "    with open(localPath+\"eti_140_swiss.dat\",\"a\") as f:\n",
    "        f.write(\"\\n\")\n",
    "\n",
    "        \n",
    "    print(\"{} {}\".format(repeat_distance,(sim['TRJLENGTH']-float(sim['BINDINGEQ']))/1000))\n",
    "\n",
    "with open(localPath+\"eti_280_swiss.dat\",\"w\") as f:\n",
    "    f.write(\"#Etidocaine 280mM, Swiss \\n\")\n",
    "for system in eti_280:\n",
    "    readme=system+\"/README.yaml\"\n",
    "    with open(readme) as yaml_file:\n",
    "        sim = yaml.load(yaml_file, Loader=yaml.FullLoader)\n",
    "    repeat_distance=sim['ANALYSIS']['BOX_DIMENSIONS']['REPEAT_DISTANCE']\n",
    "    with open(localPath+\"eti_280_swiss.dat\",\"a\") as f:\n",
    "        f.write(\"{} \".format(repeat_distance))\n",
    "    for key in sim['ANALYSIS']['ORDER_PARAMETER']:\n",
    "        key=sim['ANALYSIS']['ORDER_PARAMETER'][key]\n",
    "        with open(localPath+\"eti_280_swiss.dat\",\"a\") as f:\n",
    "            f.write(\"{} \".format(key))\n",
    "    with open(localPath+\"eti_280_swiss.dat\",\"a\") as f:\n",
    "        f.write(\"\\n\")\n",
    "\n",
    "        \n",
    "    print(\"{} {}\".format(repeat_distance,(sim['TRJLENGTH']-float(sim['BINDINGEQ']))/1000))\n",
    "    \n",
    "    \n",
    "    \n",
    "with open(localPath+\"eti_420_swiss.dat\",\"w\") as f:\n",
    "    f.write(\"#Etidocaine 420mM, Swiss \\n\")\n",
    "for system in eti_420:\n",
    "    readme=system+\"/README.yaml\"\n",
    "    with open(readme) as yaml_file:\n",
    "        sim = yaml.load(yaml_file, Loader=yaml.FullLoader)\n",
    "    repeat_distance=sim['ANALYSIS']['BOX_DIMENSIONS']['REPEAT_DISTANCE']\n",
    "    with open(localPath+\"eti_420_swiss.dat\",\"a\") as f:\n",
    "        f.write(\"{} \".format(repeat_distance))\n",
    "    for key in sim['ANALYSIS']['ORDER_PARAMETER']:\n",
    "        key=sim['ANALYSIS']['ORDER_PARAMETER'][key]\n",
    "        with open(localPath+\"eti_420_swiss.dat\",\"a\") as f:\n",
    "            f.write(\"{} \".format(key))\n",
    "    with open(localPath+\"eti_420_swiss.dat\",\"a\") as f:\n",
    "        f.write(\"\\n\")\n",
    "\n",
    "        \n",
    "    print(\"{} {}\".format(repeat_distance,(sim['TRJLENGTH']-float(sim['BINDINGEQ']))/1000))\n",
    "    "
   ]
  },
  {
   "cell_type": "code",
   "execution_count": 13,
   "id": "a567ec78",
   "metadata": {},
   "outputs": [
    {
     "data": {
      "text/plain": [
       "'/home/ricky/Documents/from_work/charged_molecules_binding/figure3_SIeti_140_swiss.dat'"
      ]
     },
     "execution_count": 13,
     "metadata": {},
     "output_type": "execute_result"
    }
   ],
   "source": [
    "localPath+\"eti_140_swiss.dat\""
   ]
  },
  {
   "cell_type": "code",
   "execution_count": null,
   "id": "35d07664",
   "metadata": {},
   "outputs": [],
   "source": []
  }
 ],
 "metadata": {
  "kernelspec": {
   "display_name": "all3",
   "language": "python",
   "name": "all3"
  },
  "language_info": {
   "codemirror_mode": {
    "name": "ipython",
    "version": 3
   },
   "file_extension": ".py",
   "mimetype": "text/x-python",
   "name": "python",
   "nbconvert_exporter": "python",
   "pygments_lexer": "ipython3",
   "version": "3.6.7"
  }
 },
 "nbformat": 4,
 "nbformat_minor": 5
}
